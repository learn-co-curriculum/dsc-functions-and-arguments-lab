{
 "cells": [
  {
   "cell_type": "markdown",
   "metadata": {},
   "source": [
    "# Functions With Arguments - Lab\n",
    "\n",
    "## Introduction\n",
    "In this lesson, we have decided to visit one of our travel destinations! This time we have chosen to visit Albuquerque, but we aren't very familiar with this city and are quite hungry after our long flight. We will be working with information we obtained from Yelp and Google to help us find a restaurant where we can satisfy our hunger.\n",
    "\n",
    "## Objectives\n",
    "You will be able to:\n",
    "* Declare and use a function with arguments\n",
    "\n",
    "## Exploring Restaurants in Albuquerque\n",
    "\n",
    "We've narrowed our search down to the 10 best restaurants in Albuquerque (according to a local guide), and collected their respective Yelp and Google ratings. The supposedly best restaurant is \"Fork and Fig\" (index 0) and the last spot of the top 10 is \"Pollito con Papas\"."
   ]
  },
  {
   "cell_type": "code",
   "execution_count": 1,
   "metadata": {},
   "outputs": [],
   "source": [
    "restaurants = [\"Fork and Fig\", \"Fronties Restaurant\", \"Artichoke Cafe\", \"The Salt Yard\", \"Guava Tree Cafe\"\n",
    "               \"Cocina Azul\", \"Farina Pizzeria\", \"La Crepe Michel\", \"Antiquity Restaurant\", \"Pollito con Papas\"]\n",
    "    \n",
    "yelp_rating = [4.3, 4.5, 3.9, 2.3, 4.9, 4.8, 4.2, 4.4, 4.6, 3.9]  \n",
    "\n",
    "google_rating = [4.9, 4.3, 4.7, 3.2, 4.4, 3.8, 4.8, 4.6, 4.2, 4.7]  "
   ]
  },
  {
   "cell_type": "code",
   "execution_count": 2,
   "metadata": {},
   "outputs": [],
   "source": [
    "## __SOLUTION__\n",
    "restaurants = [\"Fork and Fig\", \"Fronties Restaurant\", \"Artichoke Cafe\", \"The Salt Yard\", \"Guava Tree Cafe\"\n",
    "               \"Cocina Azul\", \"Farina Pizzeria\", \"La Crepe Michel\", \"Antiquity Restaurant\", \"Pollito con Papas\"]\n",
    "    \n",
    "yelp_rating = [4.3, 4.5, 3.9, 2.3, 4.9, 4.8, 4.2, 4.4, 4.6, 3.9]  \n",
    "\n",
    "google_rating = [4.9, 4.3, 4.7, 4.4, 3.2, 3.8, 4.8, 4.6, 4.2, 4.7]  "
   ]
  },
  {
   "cell_type": "markdown",
   "metadata": {},
   "source": [
    "As we can see from our above comparison, Yelp provides us with the same information for both restaurants.  \n",
    "\n",
    "## Writing our functions\n",
    "\n",
    "Ok, now let's write a function `restaurant_details()` that allows to take in an index number (0-9) representing the 1st to 10th spot. The desired output of the function is the following printout:\n",
    "\n",
    "\" `restaurant name` has a Yelp Rating of `a` and a Google Rating of `b`\""
   ]
  },
  {
   "cell_type": "code",
   "execution_count": 3,
   "metadata": {},
   "outputs": [],
   "source": [
    "def restaurant_details(index):\n",
    "    pass"
   ]
  },
  {
   "cell_type": "code",
   "execution_count": 4,
   "metadata": {},
   "outputs": [],
   "source": [
    "# __SOLUTION__ \n",
    "def restaurant_details(index):\n",
    "    print(restaurants[index], \"has a Yelp Rating of\",yelp_rating[index],\"and a Google Rating of\", google_rating[index])"
   ]
  },
  {
   "cell_type": "markdown",
   "metadata": {},
   "source": [
    "Next, use your function to figure out the restaurant details for the restaurant with index 2."
   ]
  },
  {
   "cell_type": "code",
   "execution_count": 5,
   "metadata": {},
   "outputs": [],
   "source": [
    "# Your code here  \n",
    "# Expected output: \"Artichoke Cafe has a Yelp Rating of 3.9 and a Google Rating of 4.7\""
   ]
  },
  {
   "cell_type": "code",
   "execution_count": 6,
   "metadata": {},
   "outputs": [
    {
     "name": "stdout",
     "output_type": "stream",
     "text": [
      "Artichoke Cafe has a Yelp Rating of 3.9 and a Google Rating of 4.7\n"
     ]
    }
   ],
   "source": [
    "# __SOLUTION__ \n",
    "restaurant_details(2)"
   ]
  },
  {
   "cell_type": "markdown",
   "metadata": {},
   "source": [
    "## Comparing restaurants\n",
    "\n",
    "You would think that Restaurants higher up the list are rated better than restaurants lower down the list. Turns out that our guide has a slightly different perspective than the average Yelp or Google rater sometimes. \n",
    "\n",
    "Now let's write a function called `is_better_yelp()`. The first argument should be called `index_a` and the second argument should be called `index_b`, and should contain the corresponding restaurant indices.\n",
    "\n",
    "The function should  return the following line if restaurant with index a has a higher Yelp rating than the one with index b:\n",
    "\n",
    ">  \"`Restaurant with index a` is better than `Restaurant with index a` according to the Yelp rating\"\n",
    "\n",
    "Alternatively, the function should return:\n",
    "\n",
    ">  \"`Restaurant with index a` is not better than `Restaurant with index b` according to the Yelp rating\""
   ]
  },
  {
   "cell_type": "markdown",
   "metadata": {},
   "source": [
    "> **Note**: You haven't formally seen conditionals yet, but for this exercise, you'll be using something that looks like this in your code:\n",
    "\n",
    "```python\n",
    "if yelp_rating[index_a] > yelp_rating[index_b]:\n",
    "        return \"statement if condition is true\"\n",
    "    else: \n",
    "        return \"statement if condition is false\"\n",
    "```"
   ]
  },
  {
   "cell_type": "code",
   "execution_count": 7,
   "metadata": {},
   "outputs": [],
   "source": [
    "def is_better(index_a, index_b):\n",
    "    pass\n",
    "    # Your code here"
   ]
  },
  {
   "cell_type": "code",
   "execution_count": 8,
   "metadata": {},
   "outputs": [
    {
     "ename": "SyntaxError",
     "evalue": "invalid syntax (<ipython-input-8-709ac761f6b4>, line 2)",
     "output_type": "error",
     "traceback": [
      "\u001b[0;36m  File \u001b[0;32m\"<ipython-input-8-709ac761f6b4>\"\u001b[0;36m, line \u001b[0;32m2\u001b[0m\n\u001b[0;31m    def is_better(index_a, index_b)\u001b[0m\n\u001b[0m                                   ^\u001b[0m\n\u001b[0;31mSyntaxError\u001b[0m\u001b[0;31m:\u001b[0m invalid syntax\n"
     ]
    }
   ],
   "source": [
    "# __SOLUTION__ \n",
    "def is_better(index_a, index_b)\n",
    "    if yelp_rating[index_a] > yelp_rating[index_b]:\n",
    "        return print(restaurants[index_a],\"is better than\", restaurants[index_b], \"according to the Yelp rating\")\n",
    "    else: \n",
    "        return print(restaurants[index_a],\"is not better than\", restaurants[index_b], \"according to the Yelp rating\")"
   ]
  },
  {
   "cell_type": "markdown",
   "metadata": {},
   "source": [
    "Next, run your code for the restaurants listed 4th and 8th by our guide."
   ]
  },
  {
   "cell_type": "code",
   "execution_count": 9,
   "metadata": {},
   "outputs": [],
   "source": [
    "# Your code here  \n",
    "# Expected output: The Salt Yard is not better than Antiquity Restaurant according to the Yelp rating"
   ]
  },
  {
   "cell_type": "code",
   "execution_count": 10,
   "metadata": {},
   "outputs": [],
   "source": [
    "# __SOLUTION__ \n",
    "is_better(3,7)"
   ]
  },
  {
   "cell_type": "markdown",
   "metadata": {},
   "source": [
    "According to Yelp, our restaurant listed as 8th is actually better than the restaurant listed on the 4th place!"
   ]
  },
  {
   "cell_type": "markdown",
   "metadata": {},
   "source": [
    "Awesome! We have built out some pretty cool functions so far. Next, we want to see if on average, Yelp or Google ratings are higher. We are going to create a function `mean_review()` that takes in a list as an argument, and calculates the mean rating for the 10 restaurants. We'll apply the function _twice_, once for the Yelp Ratings, and once for the Google ratings!"
   ]
  },
  {
   "cell_type": "code",
   "execution_count": 11,
   "metadata": {},
   "outputs": [],
   "source": [
    "def mean_review(rating_list):\n",
    "    pass\n",
    "    # code goes here"
   ]
  },
  {
   "cell_type": "code",
   "execution_count": 12,
   "metadata": {},
   "outputs": [],
   "source": [
    "# __SOLUTION__ \n",
    "# code goes here\n",
    "def mean_review(rating_list):\n",
    "    sum_all = 0\n",
    "    for rating in rating_list:\n",
    "        sum_all += rating\n",
    "    mean = sum_all/len(rating_list)\n",
    "    return mean"
   ]
  },
  {
   "cell_type": "markdown",
   "metadata": {},
   "source": [
    "Use the function to compute the average Yelp Rating"
   ]
  },
  {
   "cell_type": "code",
   "execution_count": 13,
   "metadata": {},
   "outputs": [],
   "source": [
    "# Your code here\n",
    "# Expected output: 4.18"
   ]
  },
  {
   "cell_type": "code",
   "execution_count": 14,
   "metadata": {},
   "outputs": [
    {
     "data": {
      "text/plain": [
       "4.18"
      ]
     },
     "execution_count": 14,
     "metadata": {},
     "output_type": "execute_result"
    }
   ],
   "source": [
    "# __SOLUTION__ \n",
    "mean_review(yelp_rating)"
   ]
  },
  {
   "cell_type": "markdown",
   "metadata": {},
   "source": [
    "Use the function to compute the average Google Rating"
   ]
  },
  {
   "cell_type": "code",
   "execution_count": 15,
   "metadata": {},
   "outputs": [],
   "source": [
    "# Your code here\n",
    "# Expected output: 4.36"
   ]
  },
  {
   "cell_type": "code",
   "execution_count": 16,
   "metadata": {},
   "outputs": [
    {
     "data": {
      "text/plain": [
       "4.36"
      ]
     },
     "execution_count": 16,
     "metadata": {},
     "output_type": "execute_result"
    }
   ],
   "source": [
    "# __SOLUTION__ \n",
    "mean_review(google_rating)"
   ]
  },
  {
   "cell_type": "markdown",
   "metadata": {},
   "source": [
    "The Google ratings seem higher on average!"
   ]
  },
  {
   "cell_type": "markdown",
   "metadata": {},
   "source": [
    "## Summary\n",
    "\n",
    "Great! In this lab we saw how to pass both single and multiple arguments to functions. Function arguments can make functions more flexible and reusable!"
   ]
  }
 ],
 "metadata": {
  "kernelspec": {
   "display_name": "Python 3",
   "language": "python",
   "name": "python3"
  },
  "language_info": {
   "codemirror_mode": {
    "name": "ipython",
    "version": 3
   },
   "file_extension": ".py",
   "mimetype": "text/x-python",
   "name": "python",
   "nbconvert_exporter": "python",
   "pygments_lexer": "ipython3",
   "version": "3.6.6"
  },
  "toc": {
   "base_numbering": 1,
   "nav_menu": {},
   "number_sections": true,
   "sideBar": true,
   "skip_h1_title": false,
   "title_cell": "Table of Contents",
   "title_sidebar": "Contents",
   "toc_cell": false,
   "toc_position": {},
   "toc_section_display": true,
   "toc_window_display": false
  }
 },
 "nbformat": 4,
 "nbformat_minor": 2
}
